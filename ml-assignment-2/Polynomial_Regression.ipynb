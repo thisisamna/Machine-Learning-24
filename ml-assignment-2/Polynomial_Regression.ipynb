{
 "cells": [
  {
   "cell_type": "code",
   "execution_count": null,
   "id": "014d60a2-58d8-4441-bffe-ff773094725d",
   "metadata": {},
   "outputs": [],
   "source": [
    "import numpy as np\n",
    "import pandas as pd\n",
    "from sklearn import linear_model\n",
    "from sklearn.metrics import mean_squared_error\n",
    "from sklearn.model_selection import train_test_split\n",
    "from sklearn.preprocessing import LabelEncoder\n",
    "from sklearn.preprocessing import PolynomialFeatures\n"
   ]
  },
  {
   "cell_type": "code",
   "execution_count": null,
   "id": "0a924496-64cd-4ef5-a72b-aa04d1e023d5",
   "metadata": {},
   "outputs": [],
   "source": [
    "MODEL_DEGREE=2"
   ]
  },
  {
   "cell_type": "code",
   "execution_count": null,
   "id": "b8f449da-da2f-44a1-9e6c-0c953864ff94",
   "metadata": {},
   "outputs": [],
   "source": [
    "data = pd.read_csv('ml-assignment-2/assignment2dataset.csv')\n",
    "data.info()\n"
   ]
  },
  {
   "cell_type": "code",
   "execution_count": null,
   "id": "8e02f57f-c086-40c3-8035-1a43f9c75aa7",
   "metadata": {},
   "outputs": [],
   "source": [
    "X=data.drop('Performance Index', axis=1,)#Features\n",
    "Y=data['Performance Index'] #Label\n",
    "#Split the data to training and testing sets\n",
    "X_train, X_test, y_train, y_test = train_test_split(X, Y, test_size = 0.30,shuffle=True,random_state=10)\n"
   ]
  },
  {
   "cell_type": "code",
   "execution_count": null,
   "id": "abbae114-bf63-4737-af68-999074369ecb",
   "metadata": {},
   "outputs": [],
   "source": [
    "le=LabelEncoder()\n",
    "X_train['Extracurricular Activities'] = le.fit_transform(X_train['Extracurricular Activities'])\n",
    "X_train.info()\n"
   ]
  },
  {
   "cell_type": "code",
   "execution_count": null,
   "id": "46c0d07f-5c6e-4394-94bf-36d9bb0d71f3",
   "metadata": {},
   "outputs": [],
   "source": [
    "train_data = pd.concat([X_train, y_train], axis=1)"
   ]
  },
  {
   "cell_type": "code",
   "execution_count": null,
   "id": "98e8e952-6180-4af6-99d9-50d683ba4b4c",
   "metadata": {},
   "outputs": [],
   "source": [
    "#Get the correlation between the features\n",
    "corr = train_data.corr()\n",
    "#Top 50% Correlation training features with the Value\n",
    "top_feature = corr.index[abs(corr['Performance Index'])>0.25]\n",
    "#Correlation plot\n",
    "top_feature = top_feature.delete(-1)\n",
    "X_train = X_train[top_feature]\n",
    "X.info()"
   ]
  },
  {
   "cell_type": "code",
   "execution_count": null,
   "id": "d5d0f1c7-1cf4-458d-80a7-6ad7011b5c1b",
   "metadata": {},
   "outputs": [],
   "source": []
  },
  {
   "cell_type": "code",
   "execution_count": null,
   "id": "abb4df19-13e6-46c5-ab4c-c18d0fdb2068",
   "metadata": {},
   "outputs": [],
   "source": [
    "def PolynomialFeatures(X, degree):\n",
    "    # transforms the existing features to higher degree features.\n",
    "    originalFeatures =list(X.columns)\n",
    "\n",
    "    for i in range(degree-1):\n",
    "        columns =list(X.columns)\n",
    "        for feature1 in list(columns):\n",
    "            for feature2 in list(originalFeatures):\n",
    "                newFeature = feature1 +\"*\"+feature2\n",
    "                newFeatureReversed = feature2 + \"*\" + feature1\n",
    "                if newFeature not in X and newFeatureReversed not in X:\n",
    "                    #X.insert(X.shape[1],newFeature,0)\n",
    "                    newColumn=X.loc[:,feature1]*X.loc[:,feature2]\n",
    "                    X = pd.concat([X,newColumn], axis=1)\n",
    "                    X.columns.values[-1]= newFeature\n",
    "    return X\n",
    "X_train_poly = PolynomialFeatures(X_train, degree=MODEL_DEGREE)\n"
   ]
  },
  {
   "cell_type": "code",
   "execution_count": null,
   "id": "d3f3e6e2-ff83-4299-bbf4-e985424ace25",
   "metadata": {},
   "outputs": [],
   "source": [
    "X_train_poly.head()"
   ]
  },
  {
   "cell_type": "code",
   "execution_count": null,
   "id": "50f62f5c-6bf0-4ab4-ad35-e00f2b85a450",
   "metadata": {},
   "outputs": [],
   "source": [
    "# fit the transformed features to Linear Regression\n",
    "poly_model = linear_model.LinearRegression()\n",
    "poly_model.fit(X_train_poly, y_train)\n",
    "# predicting on training data-set\n",
    "y_train_predicted = poly_model.predict(X_train_poly)\n",
    "\n",
    "print(\"Model Training Error:\" + str(mean_squared_error(y_train, y_train_predicted)))\n"
   ]
  },
  {
   "cell_type": "code",
   "execution_count": null,
   "id": "fad8bcd1-9ba3-4685-83ab-cb455389ac91",
   "metadata": {},
   "outputs": [],
   "source": [
    "#Test data preprocessing\n",
    "X_test['Extracurricular Activities'] = le.fit_transform(X_test['Extracurricular Activities'])\n",
    "X_test = X_test[top_feature]\n",
    "\n",
    "X_test_poly = PolynomialFeatures(X_test, degree=MODEL_DEGREE)\n",
    "\n",
    "# predicting on test data-set\n",
    "y_test_predicted = poly_model.predict(X_test_poly)\n",
    "\n",
    "print(\"Model Test Error:\" + str(mean_squared_error(y_test, y_test_predicted)))\n"
   ]
  },
  {
   "cell_type": "code",
   "execution_count": null,
   "id": "b8fb67d2-89d2-4e52-a844-0c559885865f",
   "metadata": {},
   "outputs": [],
   "source": []
  }
 ],
 "metadata": {
  "kernelspec": {
   "display_name": "Python 3 (ipykernel)",
   "language": "python",
   "name": "python3"
  },
  "language_info": {
   "codemirror_mode": {
    "name": "ipython",
    "version": 3
   },
   "file_extension": ".py",
   "mimetype": "text/x-python",
   "name": "python",
   "nbconvert_exporter": "python",
   "pygments_lexer": "ipython3",
   "version": "3.11.8"
  }
 },
 "nbformat": 4,
 "nbformat_minor": 5
}
