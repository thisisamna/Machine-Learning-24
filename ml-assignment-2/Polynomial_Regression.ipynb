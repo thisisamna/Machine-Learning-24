{
 "cells": [
  {
   "cell_type": "code",
   "execution_count": 17,
   "id": "014d60a2-58d8-4441-bffe-ff773094725d",
   "metadata": {},
   "outputs": [],
   "source": [
    "import numpy as np\n",
    "import pandas as pd\n",
    "from sklearn import linear_model\n",
    "from sklearn.metrics import mean_squared_error\n",
    "from sklearn.model_selection import train_test_split\n",
    "from sklearn.preprocessing import LabelEncoder\n",
    "from sklearn.preprocessing import PolynomialFeatures\n"
   ]
  },
  {
   "cell_type": "code",
   "execution_count": 18,
   "id": "0a924496-64cd-4ef5-a72b-aa04d1e023d5",
   "metadata": {},
   "outputs": [],
   "source": [
    "MODEL_DEGREE=2"
   ]
  },
  {
   "cell_type": "code",
   "execution_count": 19,
   "id": "b8f449da-da2f-44a1-9e6c-0c953864ff94",
   "metadata": {},
   "outputs": [
    {
     "name": "stdout",
     "output_type": "stream",
     "text": [
      "<class 'pandas.core.frame.DataFrame'>\n",
      "RangeIndex: 10000 entries, 0 to 9999\n",
      "Data columns (total 6 columns):\n",
      " #   Column                            Non-Null Count  Dtype  \n",
      "---  ------                            --------------  -----  \n",
      " 0   Hours Studied                     10000 non-null  int64  \n",
      " 1   Previous Scores                   10000 non-null  int64  \n",
      " 2   Extracurricular Activities        10000 non-null  object \n",
      " 3   Sleep Hours                       10000 non-null  int64  \n",
      " 4   Sample Question Papers Practiced  10000 non-null  int64  \n",
      " 5   Performance Index                 10000 non-null  float64\n",
      "dtypes: float64(1), int64(4), object(1)\n",
      "memory usage: 468.9+ KB\n"
     ]
    }
   ],
   "source": [
    "data = pd.read_csv('assignment2dataset.csv')\n",
    "data.info()\n"
   ]
  },
  {
   "cell_type": "code",
   "execution_count": 20,
   "id": "8e02f57f-c086-40c3-8035-1a43f9c75aa7",
   "metadata": {},
   "outputs": [],
   "source": [
    "X=data.drop('Performance Index', axis=1,)#Features\n",
    "Y=data['Performance Index'] #Label\n",
    "#Split the data to training and testing sets\n",
    "X_train, X_test, y_train, y_test = train_test_split(X, Y, test_size = 0.20,shuffle=True,random_state=10)\n"
   ]
  },
  {
   "cell_type": "code",
   "execution_count": 21,
   "id": "abbae114-bf63-4737-af68-999074369ecb",
   "metadata": {},
   "outputs": [
    {
     "name": "stdout",
     "output_type": "stream",
     "text": [
      "<class 'pandas.core.frame.DataFrame'>\n",
      "Index: 8000 entries, 7496 to 1289\n",
      "Data columns (total 5 columns):\n",
      " #   Column                            Non-Null Count  Dtype\n",
      "---  ------                            --------------  -----\n",
      " 0   Hours Studied                     8000 non-null   int64\n",
      " 1   Previous Scores                   8000 non-null   int64\n",
      " 2   Extracurricular Activities        8000 non-null   int64\n",
      " 3   Sleep Hours                       8000 non-null   int64\n",
      " 4   Sample Question Papers Practiced  8000 non-null   int64\n",
      "dtypes: int64(5)\n",
      "memory usage: 375.0 KB\n"
     ]
    }
   ],
   "source": [
    "le=LabelEncoder()\n",
    "X_train['Extracurricular Activities'] = le.fit_transform(X_train['Extracurricular Activities'])\n",
    "X_train.info()\n"
   ]
  },
  {
   "cell_type": "code",
   "execution_count": 22,
   "id": "46c0d07f-5c6e-4394-94bf-36d9bb0d71f3",
   "metadata": {},
   "outputs": [],
   "source": [
    "train_data = pd.concat([X_train, y_train], axis=1)"
   ]
  },
  {
   "cell_type": "code",
   "execution_count": 23,
   "id": "98e8e952-6180-4af6-99d9-50d683ba4b4c",
   "metadata": {},
   "outputs": [
    {
     "name": "stdout",
     "output_type": "stream",
     "text": [
      "<class 'pandas.core.frame.DataFrame'>\n",
      "RangeIndex: 10000 entries, 0 to 9999\n",
      "Data columns (total 5 columns):\n",
      " #   Column                            Non-Null Count  Dtype \n",
      "---  ------                            --------------  ----- \n",
      " 0   Hours Studied                     10000 non-null  int64 \n",
      " 1   Previous Scores                   10000 non-null  int64 \n",
      " 2   Extracurricular Activities        10000 non-null  object\n",
      " 3   Sleep Hours                       10000 non-null  int64 \n",
      " 4   Sample Question Papers Practiced  10000 non-null  int64 \n",
      "dtypes: int64(4), object(1)\n",
      "memory usage: 390.8+ KB\n"
     ]
    }
   ],
   "source": [
    "#Get the correlation between the features\n",
    "corr = train_data.corr()\n",
    "#Top 50% Correlation training features with the Value\n",
    "top_feature = corr.index[abs(corr['Performance Index'])>0.25]\n",
    "#Correlation plot\n",
    "top_feature = top_feature.delete(-1)\n",
    "X_train = X_train[top_feature]\n",
    "X.info()"
   ]
  },
  {
   "cell_type": "code",
   "execution_count": null,
   "id": "d5d0f1c7-1cf4-458d-80a7-6ad7011b5c1b",
   "metadata": {},
   "outputs": [],
   "source": []
  },
  {
   "cell_type": "code",
   "execution_count": 24,
   "id": "abb4df19-13e6-46c5-ab4c-c18d0fdb2068",
   "metadata": {},
   "outputs": [],
   "source": [
    "def PolynomialFeatures(X, degree):\n",
    "    # transforms the existing features to higher degree features.\n",
    "    originalFeatures =list(X.columns)\n",
    "\n",
    "    for i in range(degree-1):\n",
    "        columns =list(X.columns)\n",
    "        for feature1 in list(columns):\n",
    "            for feature2 in list(originalFeatures):\n",
    "                newFeature = feature1 +\"*\"+feature2\n",
    "                newFeatureReversed = feature2 + \"*\" + feature1\n",
    "                if newFeature not in X and newFeatureReversed not in X:\n",
    "                    #X.insert(X.shape[1],newFeature,0)\n",
    "                    newColumn=X.loc[:,feature1]*X.loc[:,feature2]\n",
    "                    X = pd.concat([X,newColumn], axis=1)\n",
    "                    X.columns.values[-1]= newFeature\n",
    "    return X\n",
    "X_train_poly = PolynomialFeatures(X_train, degree=MODEL_DEGREE)\n"
   ]
  },
  {
   "cell_type": "code",
   "execution_count": 25,
   "id": "d3f3e6e2-ff83-4299-bbf4-e985424ace25",
   "metadata": {},
   "outputs": [
    {
     "data": {
      "text/html": [
       "<div>\n",
       "<style scoped>\n",
       "    .dataframe tbody tr th:only-of-type {\n",
       "        vertical-align: middle;\n",
       "    }\n",
       "\n",
       "    .dataframe tbody tr th {\n",
       "        vertical-align: top;\n",
       "    }\n",
       "\n",
       "    .dataframe thead th {\n",
       "        text-align: right;\n",
       "    }\n",
       "</style>\n",
       "<table border=\"1\" class=\"dataframe\">\n",
       "  <thead>\n",
       "    <tr style=\"text-align: right;\">\n",
       "      <th></th>\n",
       "      <th>Hours Studied</th>\n",
       "      <th>Previous Scores</th>\n",
       "      <th>Hours Studied*Hours Studied</th>\n",
       "      <th>Hours Studied*Previous Scores</th>\n",
       "      <th>Previous Scores*Previous Scores</th>\n",
       "    </tr>\n",
       "  </thead>\n",
       "  <tbody>\n",
       "    <tr>\n",
       "      <th>7496</th>\n",
       "      <td>3</td>\n",
       "      <td>58</td>\n",
       "      <td>9</td>\n",
       "      <td>174</td>\n",
       "      <td>3364</td>\n",
       "    </tr>\n",
       "    <tr>\n",
       "      <th>7694</th>\n",
       "      <td>4</td>\n",
       "      <td>82</td>\n",
       "      <td>16</td>\n",
       "      <td>328</td>\n",
       "      <td>6724</td>\n",
       "    </tr>\n",
       "    <tr>\n",
       "      <th>9248</th>\n",
       "      <td>4</td>\n",
       "      <td>96</td>\n",
       "      <td>16</td>\n",
       "      <td>384</td>\n",
       "      <td>9216</td>\n",
       "    </tr>\n",
       "    <tr>\n",
       "      <th>2470</th>\n",
       "      <td>3</td>\n",
       "      <td>57</td>\n",
       "      <td>9</td>\n",
       "      <td>171</td>\n",
       "      <td>3249</td>\n",
       "    </tr>\n",
       "    <tr>\n",
       "      <th>4392</th>\n",
       "      <td>2</td>\n",
       "      <td>44</td>\n",
       "      <td>4</td>\n",
       "      <td>88</td>\n",
       "      <td>1936</td>\n",
       "    </tr>\n",
       "  </tbody>\n",
       "</table>\n",
       "</div>"
      ],
      "text/plain": [
       "      Hours Studied  Previous Scores  Hours Studied*Hours Studied  \\\n",
       "7496              3               58                            9   \n",
       "7694              4               82                           16   \n",
       "9248              4               96                           16   \n",
       "2470              3               57                            9   \n",
       "4392              2               44                            4   \n",
       "\n",
       "      Hours Studied*Previous Scores  Previous Scores*Previous Scores  \n",
       "7496                            174                             3364  \n",
       "7694                            328                             6724  \n",
       "9248                            384                             9216  \n",
       "2470                            171                             3249  \n",
       "4392                             88                             1936  "
      ]
     },
     "execution_count": 25,
     "metadata": {},
     "output_type": "execute_result"
    }
   ],
   "source": [
    "X_train_poly.head()"
   ]
  },
  {
   "cell_type": "code",
   "execution_count": 26,
   "id": "50f62f5c-6bf0-4ab4-ad35-e00f2b85a450",
   "metadata": {},
   "outputs": [
    {
     "name": "stdout",
     "output_type": "stream",
     "text": [
      "Model Training Error:5.188894452140708\n"
     ]
    }
   ],
   "source": [
    "# fit the transformed features to Linear Regression\n",
    "poly_model = linear_model.LinearRegression()\n",
    "poly_model.fit(X_train_poly, y_train)\n",
    "# predicting on training data-set\n",
    "y_train_predicted = poly_model.predict(X_train_poly)\n",
    "\n",
    "print(\"Model Training Error:\" + str(mean_squared_error(y_train, y_train_predicted)))\n"
   ]
  },
  {
   "cell_type": "code",
   "execution_count": 27,
   "id": "fad8bcd1-9ba3-4685-83ab-cb455389ac91",
   "metadata": {},
   "outputs": [
    {
     "name": "stdout",
     "output_type": "stream",
     "text": [
      "Model Test Error:5.308525471376886\n"
     ]
    }
   ],
   "source": [
    "#Test data preprocessing\n",
    "X_test['Extracurricular Activities'] = le.fit_transform(X_test['Extracurricular Activities'])\n",
    "X_test = X_test[top_feature]\n",
    "\n",
    "X_test_poly = PolynomialFeatures(X_test, degree=MODEL_DEGREE)\n",
    "\n",
    "# predicting on test data-set\n",
    "y_test_predicted = poly_model.predict(X_test_poly)\n",
    "\n",
    "print(\"Model Test Error:\" + str(mean_squared_error(y_test, y_test_predicted)))\n"
   ]
  },
  {
   "cell_type": "code",
   "execution_count": null,
   "id": "b8fb67d2-89d2-4e52-a844-0c559885865f",
   "metadata": {},
   "outputs": [],
   "source": []
  }
 ],
 "metadata": {
  "kernelspec": {
   "display_name": "Python 3 (ipykernel)",
   "language": "python",
   "name": "python3"
  },
  "language_info": {
   "codemirror_mode": {
    "name": "ipython",
    "version": 3
   },
   "file_extension": ".py",
   "mimetype": "text/x-python",
   "name": "python",
   "nbconvert_exporter": "python",
   "pygments_lexer": "ipython3",
   "version": "3.11.8"
  }
 },
 "nbformat": 4,
 "nbformat_minor": 5
}
